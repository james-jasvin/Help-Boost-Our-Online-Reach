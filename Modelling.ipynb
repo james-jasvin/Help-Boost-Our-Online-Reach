{
 "cells": [
  {
   "cell_type": "code",
   "execution_count": 1,
   "id": "1858411e",
   "metadata": {},
   "outputs": [],
   "source": [
    "import numpy as np\n",
    "import pandas as pd\n",
    "import matplotlib.pyplot as plt\n",
    "import seaborn as sns\n",
    "\n",
    "import json\n",
    "import urllib\n",
    "import string\n",
    "import re\n",
    "import nltk\n",
    "from bs4 import BeautifulSoup\n",
    "\n",
    "from nltk.corpus import stopwords\n",
    "from nltk.stem.porter import PorterStemmer\n",
    "from nltk.stem import WordNetLemmatizer\n",
    "\n",
    "from sklearn.feature_extraction.text import TfidfVectorizer, CountVectorizer\n",
    "from sklearn.feature_selection import chi2\n",
    "\n",
    "from sklearn.linear_model import LogisticRegression\n",
    "from sklearn.neighbors import KNeighborsClassifier\n",
    "from sklearn.naive_bayes import MultinomialNB\n",
    "\n",
    "from sklearn.preprocessing import StandardScaler\n",
    "from sklearn.model_selection import train_test_split\n",
    "from sklearn.metrics import roc_auc_score\n",
    "\n",
    "from tqdm import tqdm\n",
    "tqdm.pandas()"
   ]
  },
  {
   "cell_type": "code",
   "execution_count": 2,
   "id": "a81d190b",
   "metadata": {},
   "outputs": [],
   "source": [
    "train = pd.read_csv('dataset/train_data.csv')\n",
    "# Drop the only entry which has neither \"body\" nor \"title\" in its webpageDescription\n",
    "train.drop(index=2994, inplace=True)\n",
    "\n",
    "test = pd.read_csv('dataset/test_data.csv')\n",
    "\n",
    "merged_data = pd.concat([train, test], ignore_index=True)\n",
    "\n",
    "# Convert webpageDescription from string to JSON\n",
    "merged_data['webpageDescription'] = merged_data['webpageDescription'].apply(lambda x: json.loads(x))"
   ]
  },
  {
   "cell_type": "markdown",
   "id": "e9eeee37",
   "metadata": {},
   "source": [
    "### Fill webpageDescription using either title or body key\n",
    "\n",
    "There are two approaches to use here for which there are two separate functions,\n",
    "\n",
    "    - Fill all entries with body key and whereever body is None, fill it with title key => use_title_key()\n",
    "    - Fill all entries with title key and whereever title is None, fill it with body key => use_body_key()\n",
    "\n",
    "That's what the two functions listed here do and lambda function will apply it on the webpageDescription column"
   ]
  },
  {
   "cell_type": "code",
   "execution_count": 3,
   "id": "b603f6ac",
   "metadata": {},
   "outputs": [
    {
     "name": "stdout",
     "output_type": "stream",
     "text": [
      "0\n"
     ]
    }
   ],
   "source": [
    "def use_title_key(x):\n",
    "    # Some entries don't have title key, in that case add 'title' key with value as None\n",
    "    # to avoid KeyError in the next if condition\n",
    "    x.setdefault('title', None)\n",
    "    \n",
    "    if x['title'] == None:\n",
    "        return x['body']\n",
    "    \n",
    "    return x['title']\n",
    "\n",
    "def use_body_key(x):\n",
    "    if x['body'] == None:\n",
    "        return x['title']\n",
    "    \n",
    "    return x['body']\n",
    "\n",
    "# COMMENT OR UNCOMMENT THESE LINES DEPENDING ON WHICH DATA YOU WANT IN THE webpageDescription column\n",
    "# merged_data['webpageDescription'] = merged_data['webpageDescription'].apply(lambda x: use_title_key(x))\n",
    "merged_data['webpageDescription'] = merged_data['webpageDescription'].apply(lambda x: use_body_key(x))\n",
    "print(merged_data['webpageDescription'].isna().sum())"
   ]
  },
  {
   "cell_type": "markdown",
   "id": "a0e2ea5f",
   "metadata": {},
   "source": [
    "### Fill in ? values in the columns \n",
    "\n",
    "This can be changed as and when we determine new logic to fill in ? values"
   ]
  },
  {
   "cell_type": "code",
   "execution_count": 4,
   "id": "304eb875",
   "metadata": {},
   "outputs": [],
   "source": [
    "# Replace all ? values in isNews and isFrontPageNews by new category 'unknown'\n",
    "merged_data['isNews'] = merged_data['isNews'].apply(lambda x: 'unknown' if x == '?' else x)\n",
    "        \n",
    "merged_data['isFrontPageNews'] = merged_data['isFrontPageNews'].apply(lambda x: 'unknown' if x == '?' else x)\n",
    "    \n",
    "# Assign all ? values in alchemy_category to \"unknown\" category\n",
    "merged_data['alchemy_category'] = merged_data['alchemy_category'].apply(lambda x: 'unknown' if x == '?' else x)\n",
    "    \n",
    "# For all ? alchemy_category values we assigned them to \"unknown\" category\n",
    "# and we are 100% confident of this assignment\n",
    "# So we substitute alchemy_category_score = 1.0 (100%) for all ? values which correspond to 'unknown' category\n",
    "merged_data['alchemy_category_score'] = merged_data['alchemy_category_score'].apply(lambda x: 1.0 if x == '?' else float(x))"
   ]
  },
  {
   "cell_type": "markdown",
   "id": "d3a926d7",
   "metadata": {},
   "source": [
    "### Adding website name feature"
   ]
  },
  {
   "cell_type": "code",
   "execution_count": 5,
   "id": "7d36fcf1",
   "metadata": {},
   "outputs": [],
   "source": [
    "# Generate the websiteName feature\n",
    "def generate_website_name(urls):\n",
    "    websites = urls.apply(lambda x: urllib.parse.urlparse(x).netloc)\n",
    "\n",
    "    # Only retain those website_names with atleast 30 entries, assign all other website names to 'other' general category\n",
    "    websites_counts = websites.value_counts()\n",
    "    websites_with_atleast_30 = list(websites_counts[websites_counts > 30].index)\n",
    "    websites = websites.apply(lambda x: x if x in websites_with_atleast_30 else 'other')\n",
    "\n",
    "    return websites\n",
    "\n",
    "merged_data['websiteName'] = generate_website_name(merged_data['url'])"
   ]
  },
  {
   "cell_type": "markdown",
   "id": "3d2adbd9",
   "metadata": {},
   "source": [
    "### Dropping redundant columns\n",
    "\n",
    "    framebased because its all 0s\n",
    "    url because after generating websiteName feature we can drop it\n",
    "    others because they are highly correlated with other features in the dataset"
   ]
  },
  {
   "cell_type": "code",
   "execution_count": 6,
   "id": "c64057bb",
   "metadata": {},
   "outputs": [],
   "source": [
    "merged_data.drop(['framebased', 'embedRatio', 'AvglinkWithTwoCommonWord', 'AvglinkWithThreeCommonWord', 'url'], axis=1, inplace=True)"
   ]
  },
  {
   "cell_type": "markdown",
   "id": "1d920a65",
   "metadata": {},
   "source": [
    "### NLP Processing\n",
    "\n",
    "Reference: https://www.kaggle.com/c/word2vec-nlp-tutorial/overview/part-1-for-beginners-bag-of-words"
   ]
  },
  {
   "cell_type": "code",
   "execution_count": 44,
   "id": "edf53b49",
   "metadata": {},
   "outputs": [],
   "source": [
    "def preprocess_webpage_description(description, lemmatize=False):\n",
    "    '''\n",
    "        Function to convert a raw webpage description to a string of words\n",
    "        The input is a single string (webpage description), and \n",
    "        the output is a single string (a preprocessed webpage description)\n",
    "    '''\n",
    "\n",
    "    # 1. Remove HTML\n",
    "    words = BeautifulSoup(description).get_text() \n",
    "\n",
    "    # 2. Remove non-letters        \n",
    "    words = re.sub(\"[^a-zA-Z]\", \" \", words) \n",
    "\n",
    "    # 3. Convert to lower case, split into individual words\n",
    "    words = words.lower().split()                             \n",
    "    \n",
    "    # 4. In Python, searching a set is much faster than searching a list, so convert the stop words to a set\n",
    "    stops = set(stopwords.words(\"english\"))                  \n",
    "    \n",
    "    # 5. Remove stop words\n",
    "    words = [w for w in words if not w in stops]   \n",
    "    \n",
    "    # 6. Stem or Lemmatize the words\n",
    "    if lemmatize == False:\n",
    "        porter = PorterStemmer()\n",
    "        words = [porter.stem(word) for word in words]\n",
    "    else:\n",
    "        lemmatizer = WordNetLemmatizer()\n",
    "        words = [lemmatizer.lemmatize(word) for word in words]\n",
    "    \n",
    "    # 7. Join the words back into one string separated by space and return the result.\n",
    "    return \" \".join(words)\n",
    "\n",
    "\n",
    "def generate_vectorized_data(data_input, vectorizer_name='tfidf', lemmatize=False, max_words_in_vocab=None, vocabulary=None):\n",
    "    '''\n",
    "        Takes in dataset input, uses webpageDescription column applies NLP preprocessing on it\n",
    "        Then gives it to the specified vectorizer and returns vectorized data.\n",
    "        \n",
    "        Parameters\n",
    "        -----------------\n",
    "        data_input: Dataframe of dataset\n",
    "        \n",
    "        vectorizer_name: Can be 'tfidf' or 'count'\n",
    "        \n",
    "        lemmatize: True => Data should be lemmatized, False => Data should be stemmed\n",
    "        \n",
    "        max_words_in_vocab: Value affects max_features parameter of vectorizer used, if None => all words are used\n",
    "        \n",
    "        vocabulary: Custom vocabulary that will be given to the vectorizer as input, if None => vocabulary is determined by the vectorizer\n",
    "\n",
    "        Returns\n",
    "        ----------------\n",
    "        vectorized_data: Dataframe of vectorized data\n",
    "    '''\n",
    "    data = data_input.copy(deep=True)\n",
    "    \n",
    "    print(\"Cleaning webpage description...\")\n",
    "    # Preprocess each description in the column according to the function described above\n",
    "    data['webpageDescription'] = data['webpageDescription'].progress_apply(lambda x: preprocess_webpage_description(x, lemmatize))\n",
    "    \n",
    "    # Initialize vectorizer according to input parameters\n",
    "    if vectorizer_name == \"tfidf\":\n",
    "        vectorizer = TfidfVectorizer(max_features=max_words_in_vocab, vocabulary=vocabulary)\n",
    "    elif vectorizer_name == \"count\":\n",
    "        vectorizer = CountVectorizer(max_features=max_words_in_vocab)\n",
    "\n",
    "    print(\"Applying vectorizer...\")\n",
    "    \n",
    "    train_data = data[data['label'].isna() == False]\n",
    "    test_data = data[data['label'].isna() == True]\n",
    "\n",
    "    # Apply vectorizer to the data\n",
    "    # Fit vectorizer on the train data and then transform the test data (avoids data leakages)\n",
    "    vectorized_train_data = vectorizer.fit_transform(train_data['webpageDescription']).toarray()\n",
    "    vectorized_test_data = vectorizer.transform(test_data['webpageDescription']).toarray()\n",
    "        \n",
    "    vectorized_webpage_description = np.concatenate((vectorized_train_data, vectorized_test_data))\n",
    " \n",
    "    # Converting data to a DataFrame so that it can be processed later more easily\n",
    "    vectorized_webpage_description = pd.DataFrame(vectorized_webpage_description)\n",
    "    print(\"Finished vectorization\")\n",
    "    \n",
    "    return vectorized_webpage_description, vectorizer"
   ]
  },
  {
   "cell_type": "markdown",
   "id": "5b172e29",
   "metadata": {},
   "source": [
    "### General Preprocessing\n",
    "\n",
    "- Takes in features to use for training as input and selects them (id and label are always considered).\n",
    "- Also takes in vectorized_data as NLP and concatenates it with the sliced data\n",
    "\n",
    "\n",
    "### NOTE: For all functions that follow from here on, the features_to_use parameter is considered to determine which features to select and process for training\n",
    "### features_to_use = [] => Use all features"
   ]
  },
  {
   "cell_type": "code",
   "execution_count": 43,
   "id": "39b1d70f",
   "metadata": {},
   "outputs": [],
   "source": [
    "def preprocessing(dataset_input, vectorized_data, features_to_use=[]):\n",
    "    '''\n",
    "        Takes in dataset and the vectorized data, concatenates them\n",
    "        It then takes a susbet of the features specified in 'features_to_use' parameter list\n",
    "    \n",
    "        Parameters\n",
    "        --------------------\n",
    "        dataset_input: Original input data\n",
    "        \n",
    "        vectorized_data: webpage description data that is output of generate_vectorized_data()\n",
    "        \n",
    "        features_to_use: Which features to use for training, features_to_use = [] => Use all features\n",
    "    \n",
    "        Returns\n",
    "        --------------------\n",
    "        processed_data: Concatenated dataframe of original data and vectorized_data by taking subset of features_to_use\n",
    "    \n",
    "    '''\n",
    "    if features_to_use == []:\n",
    "        features_to_use = dataset_input.columns\n",
    "    \n",
    "    # Required features that must always be present\n",
    "    if 'id' not in features_to_use:\n",
    "        features_to_use.append('id')\n",
    "        \n",
    "    if 'label' not in features_to_use:\n",
    "        features_to_use.append('label')\n",
    "    \n",
    "    # Doing a copy so that the input dataset remains intact\n",
    "    dataset = dataset_input.copy(deep=True)\n",
    "    dataset = dataset[features_to_use]\n",
    "    \n",
    "    processed_data = pd.concat([dataset, vectorized_data], axis=1)\n",
    "        \n",
    "    return processed_data"
   ]
  },
  {
   "cell_type": "markdown",
   "id": "16bfe8ac",
   "metadata": {},
   "source": [
    "### Train test split for regular training\n",
    "\n",
    "This function does the following,\n",
    "- Takes in the dataset as input which is the output of the preprocessing() function call\n",
    "- Applies get_dummies on the categorical columns\n",
    "- Removes webpageDescription & id from the data because they are not required for training\n",
    "- Applies train_test_split with test_size = 0.3\n",
    "- Applies StandardScaler by fitting on X_train and transforming both X_train & X_test\n",
    "- Returns X_train, X_test, y_train, y_test"
   ]
  },
  {
   "cell_type": "code",
   "execution_count": 38,
   "id": "22b0ec2e",
   "metadata": {},
   "outputs": [],
   "source": [
    "def preparing_data_for_training(dataset, random_state=42):\n",
    "    '''\n",
    "        Takes in the dataset as input which is the output of the preprocessing() function call\n",
    "        Applies get_dummies on the categorical columns\n",
    "        Removes webpageDescription & id from the data because they are not required for training\n",
    "        Applies train_test_split with test_size = 0.3\n",
    "        Applies StandardScaler by fitting on X_train and transforming both X_train & X_test\n",
    "        \n",
    "        Returns\n",
    "        -----------------------------\n",
    "        X_train, X_test, y_train, y_test\n",
    "    '''\n",
    "    train_data = dataset[dataset['label'].isna() == False]\n",
    "    \n",
    "    cur_dataset = train_data.copy(deep=True)\n",
    "    \n",
    "    temp_numeric_features = ['alchemy_category_score', 'avgLinkWordLength', 'AvglinkWithOneCommonWord',\n",
    "                          'AvglinkWithFourCommonWord', 'redundancyMeasure', 'frameTagRatio',\n",
    "                          'tagRatio', 'imageTagRatio', 'hyperlinkToAllWordsRatio',\n",
    "                          'alphanumCharCount', 'linksCount', 'wordCount',\n",
    "                          'parametrizedLinkRatio', 'spellingErrorsRatio'\n",
    "                         ]\n",
    "    numeric_features = []\n",
    "    \n",
    "    temp_cat_features = ['alchemy_category', 'domainLink', 'isNews', 'isFrontPageNews', 'lengthyDomain', 'websiteName']\n",
    "    cat_features = []\n",
    "    \n",
    "    # Only consider those numeric and categorical features which are actually present in the dataset, i.e. being used for training\n",
    "    for feature in cur_dataset.columns:\n",
    "        if feature in temp_cat_features:\n",
    "            cat_features.append(feature)\n",
    "        elif feature in temp_numeric_features:\n",
    "            numeric_features.append(feature)\n",
    "    \n",
    "    # Get dummies on categorical columns\n",
    "    cur_dataset = pd.get_dummies(cur_dataset, columns=cat_features, drop_first=True)\n",
    "\n",
    "    X = cur_dataset.drop(['label', 'webpageDescription', 'id'], axis=1)\n",
    "    y = cur_dataset['label']\n",
    "        \n",
    "    X_train, X_test, y_train, y_test = train_test_split(X, y, test_size=0.3, random_state=random_state)\n",
    "        \n",
    "    scaler = StandardScaler()\n",
    "    \n",
    "    # Standard Scaler requires us to save the changes in a copy instead of the original dataframe so that's why these copies are made\n",
    "    X_train_copy = X_train.copy(deep=True)\n",
    "    X_test_copy = X_test.copy(deep=True)\n",
    "    \n",
    "    scaler = StandardScaler()\n",
    "    # Feature Standardization\n",
    "    for feature in numeric_features:\n",
    "        scaler.fit(X_train_copy[[feature]])\n",
    "        X_train_copy[feature] = scaler.transform(X_train_copy[[feature]])\n",
    "        X_test_copy[feature] = scaler.transform(X_test_copy[[feature]])\n",
    "    \n",
    "    return X_train_copy, X_test_copy, y_train, y_test"
   ]
  },
  {
   "cell_type": "markdown",
   "id": "07341cc1",
   "metadata": {},
   "source": [
    "### Train-test Split for final submission\n",
    "\n",
    "Very similar to the above function with the few changes being,\n",
    "- There is no actual train_test_split() call here as we use the full train.csv data\n",
    "- Apply get_dummies and feature standardization on the entire data (train.csv + test.csv)\n",
    "- Separates out train.csv and test.csv data from this processed data\n",
    "- Returns X_train (that has been processed from train.csv), y_train (from train.csv) & X_test (that has been processed from test.csv)"
   ]
  },
  {
   "cell_type": "code",
   "execution_count": 39,
   "id": "605a4cd7",
   "metadata": {},
   "outputs": [],
   "source": [
    "def preparing_data_for_final_submission(dataset):        \n",
    "    '''\n",
    "        Apply get_dummies and feature standardization on the entire data (train.csv + test.csv)\n",
    "        Separates out train.csv and test.csv data from this processed data\n",
    "        Returns X_train (that has been processed from train.csv), y_train (from train.csv) & X_test (that has been processed from test.csv)\n",
    "        \n",
    "        Returns\n",
    "        ----------------\n",
    "        X_train, y_train, X_test\n",
    "    '''\n",
    "    cur_dataset = dataset.copy(deep=True)\n",
    "    \n",
    "    temp_numeric_features = ['alchemy_category_score', 'avgLinkWordLength', 'AvglinkWithOneCommonWord',\n",
    "                          'AvglinkWithFourCommonWord', 'redundancyMeasure', 'frameTagRatio',\n",
    "                          'tagRatio', 'imageTagRatio', 'hyperlinkToAllWordsRatio',\n",
    "                          'alphanumCharCount', 'linksCount', 'wordCount',\n",
    "                          'parametrizedLinkRatio', 'spellingErrorsRatio'\n",
    "                         ]\n",
    "\n",
    "    temp_cat_features = ['alchemy_category', 'domainLink', 'isNews', 'isFrontPageNews', 'lengthyDomain', 'websiteName']\n",
    "\n",
    "    numeric_features = []\n",
    "    cat_features = []\n",
    "    \n",
    "    # Only consider those numeric and categorical features which are actually present in the dataset\n",
    "    for feature in cur_dataset.columns:\n",
    "        if feature in temp_cat_features:\n",
    "            cat_features.append(feature)\n",
    "        elif feature in temp_numeric_features:\n",
    "            numeric_features.append(feature)\n",
    "    \n",
    "    # Get dummies on categorical columns\n",
    "    cur_dataset = pd.get_dummies(cur_dataset, columns=cat_features, drop_first=True)\n",
    "\n",
    "    scaler = StandardScaler()\n",
    "    \n",
    "    # Feature Standardization\n",
    "    for feature in numeric_features:\n",
    "        cur_dataset[feature] = scaler.fit_transform(cur_dataset[[feature]])\n",
    "    \n",
    "    train_data = cur_dataset[cur_dataset['label'].isna() == False]\n",
    "    test_data = cur_dataset[cur_dataset['label'].isna() == True]\n",
    "    \n",
    "    X_train = train_data.drop(['label', 'webpageDescription', 'id'], axis=1)\n",
    "    y_train = train_data['label']\n",
    "    # Do not drop \"id\" from X_test\n",
    "    X_test = test_data.drop(['label', 'webpageDescription'], axis=1)\n",
    "    \n",
    "    return X_train, y_train, X_test"
   ]
  },
  {
   "cell_type": "markdown",
   "id": "456afb52",
   "metadata": {},
   "source": [
    "### Function that runs end-to-end to generate submission file\n",
    "\n",
    "- If vectorized_data == None, then first calls nlp_preprocessing() using the given parameters (max_words_in_vocab, vectorizer_name) in function call.\n",
    "- General preprocessing by calling preprocessing()\n",
    "- Calls preparing_data_for_final_submission()\n",
    "- Trains on the given model in function call\n",
    "- Prepares the csv file to submit"
   ]
  },
  {
   "cell_type": "code",
   "execution_count": 45,
   "id": "35e74e7a",
   "metadata": {},
   "outputs": [],
   "source": [
    "def generate_csv_submission(test, y_final_pred, output_file_name='submission.csv'):\n",
    "    '''\n",
    "        Parameters\n",
    "        -----------------------\n",
    "        test: Test data that contains id column\n",
    "        \n",
    "        y_final_pred: predict_proba() output for given model and test data\n",
    "        \n",
    "        output_file_name: Name of submission output file\n",
    "    '''\n",
    "    submission_df = pd.DataFrame()\n",
    "    submission_df[\"id\"] = test[\"id\"]\n",
    "    submission_df[\"label\"] = y_final_pred\n",
    "    submission_df.to_csv(output_file_name, index=False)\n",
    "\n",
    "def end_to_end_run(data, model, vectorized_data=None, max_words_in_vocab=None, vocabulary=None, features_to_use=[], lemmatize=True, vectorizer_name='tfidf', output_file_name='submission.csv'):\n",
    "    '''\n",
    "        Utility function that does the entire modelling from start to finish\n",
    "        Vectorizes the data, fit it on the given model and generate submission file\n",
    "        \n",
    "        Parameters\n",
    "        --------------------\n",
    "        data: Input dataset\n",
    "        \n",
    "        model: Model to train data on\n",
    "        \n",
    "        vectorized_data: Output of generate_vectorized_data(), if None => this function will call vectorized_data()\n",
    "        If not None => max_words_in_vocab and vocabulary are ignored\n",
    "        \n",
    "        max_words_in_vocab: Used as max_features parameter value for vectorizing\n",
    "        \n",
    "        vocabulary: Used as vocabulary parameter value for vectorizing\n",
    "        \n",
    "        features_to_use: Which features to use for training\n",
    "    '''\n",
    "    if vectorized_data == None:\n",
    "        vectorized_data, _ = generate_vectorized_data(data, vectorizer_name, lemmatize, max_words_in_vocab, vocabulary)\n",
    "    \n",
    "    processed_data = preprocessing(data, vectorized_data, features_to_use)\n",
    "    \n",
    "    X_train_final, y_train_final, test = preparing_data_for_final_submission(processed_data)\n",
    "    model.fit(X_train_final, y_train_final)\n",
    "\n",
    "    # Drop 'id' before sending for training\n",
    "    y_final_pred = model.predict_proba(test.drop('id', axis=1))[:, 1]\n",
    "    \n",
    "    generate_csv_submission(test, y_final_pred, output_file_name)"
   ]
  },
  {
   "cell_type": "markdown",
   "id": "551aef80",
   "metadata": {},
   "source": [
    "### Example use-case of preparing_data_for_training() for model training"
   ]
  },
  {
   "cell_type": "code",
   "execution_count": 12,
   "id": "5765a30b",
   "metadata": {},
   "outputs": [
    {
     "name": "stdout",
     "output_type": "stream",
     "text": [
      "Cleaning webpage description...\n"
     ]
    },
    {
     "name": "stderr",
     "output_type": "stream",
     "text": [
      "100%|██████████████████████████████████████| 7394/7394 [00:27<00:00, 272.37it/s]\n"
     ]
    },
    {
     "name": "stdout",
     "output_type": "stream",
     "text": [
      "Applying vectorizer...\n",
      "Finished vectorization\n"
     ]
    }
   ],
   "source": [
    "vectorized_data, vectorizer = generate_vectorized_data(merged_data, lemmatize=False, max_words_in_vocab=10000, vectorizer_name='tfidf')"
   ]
  },
  {
   "cell_type": "code",
   "execution_count": 13,
   "id": "db0dad18",
   "metadata": {},
   "outputs": [],
   "source": [
    "processed_data = preprocessing(merged_data, vectorized_data, features_to_use=[])\n",
    "\n",
    "X_train, X_test, y_train, y_test = preparing_data_for_training(processed_data, random_state=69)"
   ]
  },
  {
   "cell_type": "code",
   "execution_count": 14,
   "id": "eb531b58",
   "metadata": {},
   "outputs": [
    {
     "name": "stdout",
     "output_type": "stream",
     "text": [
      "0.8628458688713572\n"
     ]
    }
   ],
   "source": [
    "model = LogisticRegression(max_iter=2000)\n",
    "model.fit(X_train, y_train)\n",
    "\n",
    "y_pred = model.predict_proba(X_test)[:, 1]\n",
    "\n",
    "print(roc_auc_score(y_test, y_pred))"
   ]
  },
  {
   "cell_type": "markdown",
   "id": "b33640a4",
   "metadata": {},
   "source": [
    "### Example use-case of creating final submission using preparing_data_for_final_submission()"
   ]
  },
  {
   "cell_type": "code",
   "execution_count": 15,
   "id": "7322e4f4",
   "metadata": {},
   "outputs": [],
   "source": [
    "X_train_final, y_train_final, test = preparing_data_for_final_submission(processed_data)"
   ]
  },
  {
   "cell_type": "code",
   "execution_count": 16,
   "id": "0f8acb4b",
   "metadata": {},
   "outputs": [],
   "source": [
    "model = LogisticRegression(max_iter=2000)\n",
    "model.fit(X_train_final, y_train_final)\n",
    "\n",
    "# Drop 'id' before sending for training\n",
    "y_final_pred = model.predict_proba(test.drop('id', axis=1))[:, 1]\n",
    "\n",
    "generate_csv_submission(test, y_final_pred, 'test_submission_1.csv')"
   ]
  },
  {
   "cell_type": "markdown",
   "id": "d6516c70",
   "metadata": {},
   "source": [
    "### Example use-case of end_to_end_run() to create submission file"
   ]
  },
  {
   "cell_type": "code",
   "execution_count": 17,
   "id": "0562be6d",
   "metadata": {},
   "outputs": [
    {
     "name": "stdout",
     "output_type": "stream",
     "text": [
      "Cleaning webpage description...\n"
     ]
    },
    {
     "name": "stderr",
     "output_type": "stream",
     "text": [
      "100%|██████████████████████████████████████| 7394/7394 [00:07<00:00, 935.60it/s]\n"
     ]
    },
    {
     "name": "stdout",
     "output_type": "stream",
     "text": [
      "Applying vectorizer...\n",
      "Finished vectorization\n"
     ]
    }
   ],
   "source": [
    "model = LogisticRegression(max_iter=2000)\n",
    "\n",
    "end_to_end_run(merged_data, model, max_words_in_vocab=10000, features_to_use=[], vectorizer_name='tfidf', output_file_name='test_submission_2.csv')"
   ]
  },
  {
   "cell_type": "markdown",
   "id": "9146295f",
   "metadata": {},
   "source": [
    "### Using only the webpageDescription column for submission"
   ]
  },
  {
   "cell_type": "code",
   "execution_count": 18,
   "id": "5b1010da",
   "metadata": {},
   "outputs": [
    {
     "name": "stdout",
     "output_type": "stream",
     "text": [
      "Cleaning webpage description...\n"
     ]
    },
    {
     "name": "stderr",
     "output_type": "stream",
     "text": [
      "100%|█████████████████████████████████████| 7394/7394 [00:07<00:00, 1053.84it/s]\n"
     ]
    },
    {
     "name": "stdout",
     "output_type": "stream",
     "text": [
      "Applying vectorizer...\n",
      "Finished vectorization\n"
     ]
    }
   ],
   "source": [
    "model = LogisticRegression(max_iter=2000)\n",
    "\n",
    "end_to_end_run(data=merged_data, max_words_in_vocab=10000, model=model, features_to_use=['webpageDescription'], vectorizer_name='tfidf', output_file_name='test_submission_3.csv')"
   ]
  },
  {
   "cell_type": "markdown",
   "id": "65e74166",
   "metadata": {},
   "source": [
    "### Using KNN Classifier\n",
    "\n",
    "Spoiler Alert: It sucks ^_^"
   ]
  },
  {
   "cell_type": "code",
   "execution_count": 19,
   "id": "6d0821b4",
   "metadata": {},
   "outputs": [
    {
     "name": "stdout",
     "output_type": "stream",
     "text": [
      "Cleaning webpage description...\n"
     ]
    },
    {
     "name": "stderr",
     "output_type": "stream",
     "text": [
      "100%|██████████████████████████████████████| 7394/7394 [00:24<00:00, 303.63it/s]\n"
     ]
    },
    {
     "name": "stdout",
     "output_type": "stream",
     "text": [
      "Applying vectorizer...\n",
      "Finished vectorization\n",
      "Starting training for K in given range\n"
     ]
    },
    {
     "name": "stderr",
     "output_type": "stream",
     "text": [
      "100%|███████████████████████████████████████████| 95/95 [01:27<00:00,  1.08it/s]"
     ]
    },
    {
     "name": "stdout",
     "output_type": "stream",
     "text": [
      "K=5, ROC Score: 0.5771906192312868\n"
     ]
    },
    {
     "name": "stderr",
     "output_type": "stream",
     "text": [
      "\n"
     ]
    },
    {
     "data": {
      "text/plain": [
       "[<matplotlib.lines.Line2D at 0x7f17f7d0c760>]"
      ]
     },
     "execution_count": 19,
     "metadata": {},
     "output_type": "execute_result"
    },
    {
     "data": {
      "image/png": "[encoded data removed]",
      "text/plain": [
       "<Figure size 432x288 with 1 Axes>"
      ]
     },
     "metadata": {
      "needs_background": "light"
     },
     "output_type": "display_data"
    }
   ],
   "source": [
    "roc_scores = []\n",
    "vectorized_data, _ = generate_vectorized_data(merged_data, lemmatize=False, max_words_in_vocab=10000, vectorizer_name='tfidf')\n",
    "processed_data = preprocessing(merged_data, vectorized_data, features_to_use=['webpageDescription'])\n",
    "X_train, X_test, y_train, y_test = preparing_data_for_training(processed_data, random_state=69)\n",
    "\n",
    "max_K = 100\n",
    "print(\"Starting training for K in range ({}. {})\".format(5, max_K))\n",
    "for k in tqdm(range(5, max_K)):\n",
    "    model = KNeighborsClassifier(n_neighbors=k)\n",
    "    model.fit(X_train, y_train)\n",
    "    y_pred = model.predict_proba(X_test)[:, 1]\n",
    "    roc_scores.append(roc_auc_score(y_test, y_pred))\n",
    "\n",
    "print(\"Best Results: K={}, ROC Score: {}\".format(np.argmax(roc_scores) + 5, roc_scores[np.argmax(roc_scores)]))\n",
    "\n",
    "plt.plot(roc_scores)"
   ]
  },
  {
   "cell_type": "markdown",
   "id": "b471fe95",
   "metadata": {},
   "source": [
    "### Applying Chi-Squared test to pick most relevant words out of given data\n",
    "\n",
    "The Chi-Squared test checks whether each feature given in the dataset is independent of the target variable or not by considering each feature individually. But the feature must take non-negative values which in our case is perfectly fine as we're considering TF-IDF values which are always positive.\n",
    "\n",
    "It computes the p-value for each feature which tells you how effective that feature is (individually) to predict the target variable.\n",
    "\n",
    "It takes the Null Hypothesis which assumes that the feature and target variable are independent.\n",
    "\n",
    "Lower the p-value, the better the feature is.\n",
    "\n",
    "On the basis of this, the p-score is defined as, 1 - p_value\n",
    "\n",
    "A p_score of 0.95 is typically considered to be a good indicator of a feature being useful for prediction process.\n",
    "\n",
    "p-value less than 0.05 (typically ≤ 0.05) is statistically significant. It indicates strong evidence against the null hypothesis, as there is less than a 5% probability the null is correct (and the results are random). Therefore, we reject the null hypothesis, and accept the alternative hypothesis.\n",
    "\n",
    "In our task, we have around 80,000 words in the entire dataset and we prune it further to around 10-40 thousand using the max_features parameter of the vectorizer object to pick the most frequent words.\n",
    "\n",
    "But we can prune this even further with the help of this test and only choosing those words which have p-score >= 0.95"
   ]
  },
  {
   "cell_type": "markdown",
   "id": "3ddb0c24",
   "metadata": {},
   "source": [
    "Starting with vectorized_data of 10,000 words which will be analyzed by the test"
   ]
  },
  {
   "cell_type": "code",
   "execution_count": 20,
   "id": "ad56b91b",
   "metadata": {},
   "outputs": [
    {
     "name": "stdout",
     "output_type": "stream",
     "text": [
      "Cleaning webpage description...\n"
     ]
    },
    {
     "name": "stderr",
     "output_type": "stream",
     "text": [
      "100%|██████████████████████████████████████| 7394/7394 [00:24<00:00, 301.40it/s]\n"
     ]
    },
    {
     "name": "stdout",
     "output_type": "stream",
     "text": [
      "Applying vectorizer...\n",
      "Finished vectorization\n"
     ]
    }
   ],
   "source": [
    "vectorized_data, vectorizer = generate_vectorized_data(merged_data, lemmatize=False, max_words_in_vocab=10000, vectorizer_name='tfidf')"
   ]
  },
  {
   "cell_type": "code",
   "execution_count": 21,
   "id": "21ff205e",
   "metadata": {},
   "outputs": [],
   "source": [
    "processed_data = preprocessing(merged_data, vectorized_data, features_to_use=['webpageDescription'])\n",
    "\n",
    "X_train, X_test, y_train, y_test = preparing_data_for_training(processed_data, random_state=69)\n",
    "\n",
    "vocab_words = vectorizer.get_feature_names()\n",
    "\n",
    "# Min value of p_score required is p_limit\n",
    "p_limit = 0.95"
   ]
  },
  {
   "cell_type": "markdown",
   "id": "1debb7b8",
   "metadata": {},
   "source": [
    "### Running the Chi-Squared test and storing the results in a DataFrame and sorting DF by p_score value"
   ]
  },
  {
   "cell_type": "code",
   "execution_count": 22,
   "id": "21df0881",
   "metadata": {},
   "outputs": [
    {
     "data": {
      "text/html": [
       "<div>\n",
       "<style scoped>\n",
       "    .dataframe tbody tr th:only-of-type {\n",
       "        vertical-align: middle;\n",
       "    }\n",
       "\n",
       "    .dataframe tbody tr th {\n",
       "        vertical-align: top;\n",
       "    }\n",
       "\n",
       "    .dataframe thead th {\n",
       "        text-align: right;\n",
       "    }\n",
       "</style>\n",
       "<table border=\"1\" class=\"dataframe\">\n",
       "  <thead>\n",
       "    <tr style=\"text-align: right;\">\n",
       "      <th></th>\n",
       "      <th>feature</th>\n",
       "      <th>score</th>\n",
       "    </tr>\n",
       "  </thead>\n",
       "  <tbody>\n",
       "    <tr>\n",
       "      <th>7209</th>\n",
       "      <td>recip</td>\n",
       "      <td>1.0</td>\n",
       "    </tr>\n",
       "    <tr>\n",
       "      <th>2154</th>\n",
       "      <td>cup</td>\n",
       "      <td>1.0</td>\n",
       "    </tr>\n",
       "    <tr>\n",
       "      <th>633</th>\n",
       "      <td>bake</td>\n",
       "      <td>1.0</td>\n",
       "    </tr>\n",
       "    <tr>\n",
       "      <th>1499</th>\n",
       "      <td>chees</td>\n",
       "      <td>1.0</td>\n",
       "    </tr>\n",
       "    <tr>\n",
       "      <th>1203</th>\n",
       "      <td>butter</td>\n",
       "      <td>1.0</td>\n",
       "    </tr>\n",
       "    <tr>\n",
       "      <th>...</th>\n",
       "      <td>...</td>\n",
       "      <td>...</td>\n",
       "    </tr>\n",
       "    <tr>\n",
       "      <th>9923</th>\n",
       "      <td>yakuza</td>\n",
       "      <td>NaN</td>\n",
       "    </tr>\n",
       "    <tr>\n",
       "      <th>9947</th>\n",
       "      <td>yoder</td>\n",
       "      <td>NaN</td>\n",
       "    </tr>\n",
       "    <tr>\n",
       "      <th>9976</th>\n",
       "      <td>zetaclear</td>\n",
       "      <td>NaN</td>\n",
       "    </tr>\n",
       "    <tr>\n",
       "      <th>9977</th>\n",
       "      <td>zhao</td>\n",
       "      <td>NaN</td>\n",
       "    </tr>\n",
       "    <tr>\n",
       "      <th>9999</th>\n",
       "      <td>zumbo</td>\n",
       "      <td>NaN</td>\n",
       "    </tr>\n",
       "  </tbody>\n",
       "</table>\n",
       "<p>10000 rows × 2 columns</p>\n",
       "</div>"
      ],
      "text/plain": [
       "        feature  score\n",
       "7209      recip    1.0\n",
       "2154        cup    1.0\n",
       "633        bake    1.0\n",
       "1499      chees    1.0\n",
       "1203     butter    1.0\n",
       "...         ...    ...\n",
       "9923     yakuza    NaN\n",
       "9947      yoder    NaN\n",
       "9976  zetaclear    NaN\n",
       "9977       zhao    NaN\n",
       "9999      zumbo    NaN\n",
       "\n",
       "[10000 rows x 2 columns]"
      ]
     },
     "execution_count": 22,
     "metadata": {},
     "output_type": "execute_result"
    }
   ],
   "source": [
    "chi2_stats, p = chi2(X_train, y_train)\n",
    "\n",
    "p_score_per_word = pd.DataFrame({\"feature\":vocab_words, \"score\":1-p})\n",
    "\n",
    "# Sorting in descending order of p-score value\n",
    "p_score_per_word.sort_values('score', ascending=False)"
   ]
  },
  {
   "cell_type": "code",
   "execution_count": 23,
   "id": "d17a3cc4",
   "metadata": {},
   "outputs": [
    {
     "data": {
      "text/html": [
       "<div>\n",
       "<style scoped>\n",
       "    .dataframe tbody tr th:only-of-type {\n",
       "        vertical-align: middle;\n",
       "    }\n",
       "\n",
       "    .dataframe tbody tr th {\n",
       "        vertical-align: top;\n",
       "    }\n",
       "\n",
       "    .dataframe thead th {\n",
       "        text-align: right;\n",
       "    }\n",
       "</style>\n",
       "<table border=\"1\" class=\"dataframe\">\n",
       "  <thead>\n",
       "    <tr style=\"text-align: right;\">\n",
       "      <th></th>\n",
       "      <th>feature</th>\n",
       "      <th>score</th>\n",
       "    </tr>\n",
       "  </thead>\n",
       "  <tbody>\n",
       "    <tr>\n",
       "      <th>87</th>\n",
       "      <td>add</td>\n",
       "      <td>1.000000</td>\n",
       "    </tr>\n",
       "    <tr>\n",
       "      <th>246</th>\n",
       "      <td>almond</td>\n",
       "      <td>0.956293</td>\n",
       "    </tr>\n",
       "    <tr>\n",
       "      <th>314</th>\n",
       "      <td>android</td>\n",
       "      <td>0.954929</td>\n",
       "    </tr>\n",
       "    <tr>\n",
       "      <th>386</th>\n",
       "      <td>app</td>\n",
       "      <td>0.970936</td>\n",
       "    </tr>\n",
       "    <tr>\n",
       "      <th>482</th>\n",
       "      <td>asid</td>\n",
       "      <td>0.985907</td>\n",
       "    </tr>\n",
       "    <tr>\n",
       "      <th>...</th>\n",
       "      <td>...</td>\n",
       "      <td>...</td>\n",
       "    </tr>\n",
       "    <tr>\n",
       "      <th>9893</th>\n",
       "      <td>wrap</td>\n",
       "      <td>0.967129</td>\n",
       "    </tr>\n",
       "    <tr>\n",
       "      <th>9936</th>\n",
       "      <td>yeast</td>\n",
       "      <td>0.976146</td>\n",
       "    </tr>\n",
       "    <tr>\n",
       "      <th>9950</th>\n",
       "      <td>yogurt</td>\n",
       "      <td>0.973270</td>\n",
       "    </tr>\n",
       "    <tr>\n",
       "      <th>9974</th>\n",
       "      <td>zest</td>\n",
       "      <td>0.978068</td>\n",
       "    </tr>\n",
       "    <tr>\n",
       "      <th>9995</th>\n",
       "      <td>zucchini</td>\n",
       "      <td>0.986545</td>\n",
       "    </tr>\n",
       "  </tbody>\n",
       "</table>\n",
       "<p>305 rows × 2 columns</p>\n",
       "</div>"
      ],
      "text/plain": [
       "       feature     score\n",
       "87         add  1.000000\n",
       "246     almond  0.956293\n",
       "314    android  0.954929\n",
       "386        app  0.970936\n",
       "482       asid  0.985907\n",
       "...        ...       ...\n",
       "9893      wrap  0.967129\n",
       "9936     yeast  0.976146\n",
       "9950    yogurt  0.973270\n",
       "9974      zest  0.978068\n",
       "9995  zucchini  0.986545\n",
       "\n",
       "[305 rows x 2 columns]"
      ]
     },
     "execution_count": 23,
     "metadata": {},
     "output_type": "execute_result"
    }
   ],
   "source": [
    "p_score_per_word_filtered = p_score_per_word[p_score_per_word['score'] > p_limit]\n",
    "\n",
    "p_score_per_word_filtered"
   ]
  },
  {
   "cell_type": "markdown",
   "id": "72dd684e",
   "metadata": {},
   "source": [
    "    Filtering by p_score value >= 0.95 resulted in only 305 words remaining, we'll try to model using\n",
    "    only these features"
   ]
  },
  {
   "cell_type": "code",
   "execution_count": 24,
   "id": "78e62c03",
   "metadata": {},
   "outputs": [],
   "source": [
    "filtered_words = p_score_per_word_filtered[\"feature\"].unique().tolist()"
   ]
  },
  {
   "cell_type": "markdown",
   "id": "83c116e4",
   "metadata": {},
   "source": [
    "### Vectorizing the data again\n",
    "\n",
    "But this time, we only consider the filtered words as the input vocabulary to the vectorizer."
   ]
  },
  {
   "cell_type": "code",
   "execution_count": 25,
   "id": "7e8a1ef6",
   "metadata": {},
   "outputs": [
    {
     "name": "stdout",
     "output_type": "stream",
     "text": [
      "Cleaning webpage description...\n"
     ]
    },
    {
     "name": "stderr",
     "output_type": "stream",
     "text": [
      "100%|██████████████████████████████████████| 7394/7394 [00:24<00:00, 298.60it/s]\n"
     ]
    },
    {
     "name": "stdout",
     "output_type": "stream",
     "text": [
      "Applying vectorizer...\n",
      "Finished vectorization\n"
     ]
    }
   ],
   "source": [
    "new_vectorized_data, new_vectorizer = generate_vectorized_data(merged_data, vocabulary=filtered_words)"
   ]
  },
  {
   "cell_type": "code",
   "execution_count": 39,
   "id": "31305405",
   "metadata": {},
   "outputs": [
    {
     "name": "stdout",
     "output_type": "stream",
     "text": [
      "(4140, 305)\n"
     ]
    }
   ],
   "source": [
    "processed_data = preprocessing(merged_data, new_vectorized_data, features_to_use=['webpageDescription'])\n",
    "\n",
    "X_train, X_test, y_train, y_test = preparing_data_for_training(processed_data, random_state=69)\n",
    "\n",
    "print(X_train.shape)"
   ]
  },
  {
   "cell_type": "markdown",
   "id": "bb3e16b3",
   "metadata": {},
   "source": [
    "### Heatmap of the new vectorized data\n",
    "\n",
    "With the original X data the matrix was mostly sparse whereas this heatmap shows just how dense this data is in comparison"
   ]
  },
  {
   "cell_type": "code",
   "execution_count": 45,
   "id": "8eb6fa03",
   "metadata": {},
   "outputs": [
    {
     "data": {
      "text/plain": [
       "<AxesSubplot:>"
      ]
     },
     "execution_count": 45,
     "metadata": {},
     "output_type": "execute_result"
    },
    {
     "data": {
      "image/png": "[encoded data removed]",
      "text/plain": [
       "<Figure size 720x576 with 1 Axes>"
      ]
     },
     "metadata": {
      "needs_background": "light"
     },
     "output_type": "display_data"
    }
   ],
   "source": [
    "plt.figure(figsize=(10, 8))\n",
    "sns.heatmap(X_train.iloc[:,np.random.randint(0,X_train.shape[1],50)]==0, vmin=0, vmax=1, cbar=None)"
   ]
  },
  {
   "cell_type": "markdown",
   "id": "7648d481",
   "metadata": {},
   "source": [
    "### Training Logistic Regression model"
   ]
  },
  {
   "cell_type": "code",
   "execution_count": 47,
   "id": "939df747",
   "metadata": {},
   "outputs": [
    {
     "name": "stdout",
     "output_type": "stream",
     "text": [
      "0.855166100851389\n"
     ]
    }
   ],
   "source": [
    "model = LogisticRegression(max_iter=2000)\n",
    "model.fit(X_train, y_train)\n",
    "\n",
    "y_pred = model.predict_proba(X_test)[:, 1]\n",
    "\n",
    "print(roc_auc_score(y_test, y_pred))"
   ]
  },
  {
   "cell_type": "markdown",
   "id": "33f8827d",
   "metadata": {},
   "source": [
    "    We got an ROC score of 0.85 even though we worked with just 305 words/features in comparison to the 10,000 \n",
    "    word vocabulary of the previous model which gave a score 0.86\n",
    "\n",
    "    Although the score decreased, this approach shows great merit in the fact that even after removing so many words, the score remains very close to the original model showing just how redundant the original data is and how much memory and time can be saved by using this reduced feature matrix in exchange for slightly reduced accuracy\n",
    "\n",
    "    We submitted the following CSV file to Kaggle and we actually got a score of 0.86 on the public leaderboard so that's a great sign as well\n"
   ]
  },
  {
   "cell_type": "code",
   "execution_count": 58,
   "id": "c1528c24",
   "metadata": {},
   "outputs": [],
   "source": [
    "X_train_final, y_train_final, test = preparing_data_for_final_submission(processed_data)\n",
    "\n",
    "model = LogisticRegression(max_iter=2000)\n",
    "model.fit(X_train_final, y_train_final)\n",
    "\n",
    "# Drop 'id' before sending for training\n",
    "y_final_pred = model.predict_proba(test.drop('id', axis=1))[:, 1]\n",
    "\n",
    "generate_csv_submission(test, y_final_pred, 'chi-squared-305-words-submission.csv')"
   ]
  },
  {
   "cell_type": "markdown",
   "id": "836246b0",
   "metadata": {},
   "source": [
    "### Trying Multinomial Naive Bayes model"
   ]
  },
  {
   "cell_type": "code",
   "execution_count": 59,
   "id": "fff8067d",
   "metadata": {},
   "outputs": [
    {
     "name": "stdout",
     "output_type": "stream",
     "text": [
      "0.8595976151965203\n"
     ]
    }
   ],
   "source": [
    "model = MultinomialNB()\n",
    "model.fit(X_train, y_train)\n",
    "\n",
    "y_pred = model.predict_proba(X_test)[:, 1]\n",
    "\n",
    "print(roc_auc_score(y_test, y_pred))"
   ]
  }
 ],
 "metadata": {
  "kernelspec": {
   "display_name": "Python 3 (ipykernel)",
   "language": "python",
   "name": "python3"
  },
  "language_info": {
   "codemirror_mode": {
    "name": "ipython",
    "version": 3
   },
   "file_extension": ".py",
   "mimetype": "text/x-python",
   "name": "python",
   "nbconvert_exporter": "python",
   "pygments_lexer": "ipython3",
   "version": "3.8.10"
  }
 },
 "nbformat": 4,
 "nbformat_minor": 5
}
